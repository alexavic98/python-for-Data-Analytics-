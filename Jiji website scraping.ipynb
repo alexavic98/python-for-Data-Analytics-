{
 "cells": [
  {
   "cell_type": "code",
   "execution_count": null,
   "metadata": {},
   "outputs": [],
   "source": [
    "import requests\n",
    "from bs4 import BeautifulSoup"
   ]
  },
  {
   "cell_type": "code",
   "execution_count": null,
   "metadata": {},
   "outputs": [],
   "source": [
    "url = \"https://jiji.ng/cars\"\n",
    "url_content = requests.get(url)\n",
    "url_content = url_content.content\n"
   ]
  },
  {
   "cell_type": "code",
   "execution_count": null,
   "metadata": {},
   "outputs": [],
   "source": [
    "soup = BeautifulSoup(url_content, \"html.parser\")"
   ]
  },
  {
   "cell_type": "code",
   "execution_count": null,
   "metadata": {},
   "outputs": [],
   "source": [
    "items = soup.find_all(\"div\", class_=\"masonry-item\")\n",
    "cars =[]"
   ]
  },
  {
   "cell_type": "code",
   "execution_count": null,
   "metadata": {},
   "outputs": [],
   "source": [
    "for i in items:\n",
    "    image = i.find(\"img\")\n",
    "    name = image.attrs[\"alt\"]\n",
    "    name = name[7:] # this was added to get rid of Photo it means return from index 7 and above\n",
    "    price = i.find(\"div\", \"qa-advert-price\").text.strip()   \n",
    "    #notice i didn't type class_ but it still worked\n",
    "    #the .text removes all the unwanted characters\n",
    "    # .strip() removed the spaces that where in betwwen the outputs\n",
    "\n",
    "    #price = float(price[1:]) this code was used to remove the naira sign, i.e returning index number 1 and above. then it was coverted to a float\n",
    "     \n",
    "    location_used = i.find(\"div\", \"b-list-advert-base__item-attr\").text.strip()\n",
    "\n",
    "\n",
    "    print(name)\n",
    "    print(price)\n",
    "    print(location_used)\n",
    "\n",
    "    "
   ]
  },
  {
   "cell_type": "code",
   "execution_count": null,
   "metadata": {},
   "outputs": [],
   "source": [
    "#put them all in a list\n",
    "\n",
    "cars.append([name,price, location_used])\n",
    "\n"
   ]
  },
  {
   "cell_type": "markdown",
   "metadata": {},
   "source": [
    "# Exporting to CSV"
   ]
  },
  {
   "cell_type": "code",
   "execution_count": null,
   "metadata": {},
   "outputs": [],
   "source": [
    "import pandas as pd\n",
    "\n",
    "df = pd.DataFrame(cars, columns = [\"name\", \"price\", \"location_used\"])\n",
    "# this converts it to a dataframe i.e a table (with rows and columns)\n",
    "\n",
    "df.to_csv(\"Jiji car sales.csv\")\n",
    "#converts it to a csv file"
   ]
  }
 ],
 "metadata": {
  "kernelspec": {
   "display_name": "base",
   "language": "python",
   "name": "python3"
  },
  "language_info": {
   "codemirror_mode": {
    "name": "ipython",
    "version": 3
   },
   "file_extension": ".py",
   "mimetype": "text/x-python",
   "name": "python",
   "nbconvert_exporter": "python",
   "pygments_lexer": "ipython3",
   "version": "3.10.9"
  },
  "orig_nbformat": 4
 },
 "nbformat": 4,
 "nbformat_minor": 2
}
